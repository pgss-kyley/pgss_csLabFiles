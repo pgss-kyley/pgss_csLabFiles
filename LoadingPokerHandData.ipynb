{
  "nbformat": 4,
  "nbformat_minor": 0,
  "metadata": {
    "colab": {
      "name": "LoadingPokerHandData",
      "provenance": [],
      "authorship_tag": "ABX9TyPGYjNKwX8SmTs5j23fStvo",
      "include_colab_link": true
    },
    "kernelspec": {
      "name": "python3",
      "display_name": "Python 3"
    }
  },
  "cells": [
    {
      "cell_type": "markdown",
      "metadata": {
        "id": "view-in-github",
        "colab_type": "text"
      },
      "source": [
        "<a href=\"https://colab.research.google.com/github/pgss-kyley/pgss_csLabFiles/blob/master/LoadingPokerHandData.ipynb\" target=\"_parent\"><img src=\"https://colab.research.google.com/assets/colab-badge.svg\" alt=\"Open In Colab\"/></a>"
      ]
    },
    {
      "cell_type": "code",
      "metadata": {
        "id": "66ciaWLE43NV",
        "colab_type": "code",
        "colab": {}
      },
      "source": [
        "import pandas as pd\n",
        "# https://archive.ics.uci.edu/ml/machine-learning-databases/poker/poker-hand-testing.data\n",
        "pokerHand = pd.read_csv('https://archive.ics.uci.edu/ml/machine-learning-databases/poker/poker-hand-testing.data', header=None)"
      ],
      "execution_count": 13,
      "outputs": []
    },
    {
      "cell_type": "code",
      "metadata": {
        "id": "nzxHJIvy8dQs",
        "colab_type": "code",
        "colab": {
          "base_uri": "https://localhost:8080/",
          "height": 204
        },
        "outputId": "2494283f-fd3a-461b-cdf3-4e5c305e9c00"
      },
      "source": [
        "pokerHand.columns = ['Card1Suit','Card1Rank','Card2Suit','Card2Rank','Card3Suit','Card3Rank','Card4Suit','Card4Rank','Card5Suit','Card5Rank','Hand']\n",
        "#Hand:\n",
        "      #0: Nothing in hand; not a recognized poker hand \n",
        "      #1: One pair; one pair of equal ranks within five cards\n",
        "      #2: Two pairs; two pairs of equal ranks within five cards\n",
        "      #3: Three of a kind; three equal ranks within five cards\n",
        "      #4: Straight; five cards, sequentially ranked with no gaps\n",
        "      #5: Flush; five cards with the same suit\n",
        "      #6: Full house; pair + different rank three of a kind\n",
        "      #7: Four of a kind; four equal ranks within five cards\n",
        "      #8: Straight flush; straight + flush\n",
        "      #9: Royal flush; {Ace, King, Queen, Jack, Ten} + flush\n",
        "pokerHand.head()"
      ],
      "execution_count": 15,
      "outputs": [
        {
          "output_type": "execute_result",
          "data": {
            "text/html": [
              "<div>\n",
              "<style scoped>\n",
              "    .dataframe tbody tr th:only-of-type {\n",
              "        vertical-align: middle;\n",
              "    }\n",
              "\n",
              "    .dataframe tbody tr th {\n",
              "        vertical-align: top;\n",
              "    }\n",
              "\n",
              "    .dataframe thead th {\n",
              "        text-align: right;\n",
              "    }\n",
              "</style>\n",
              "<table border=\"1\" class=\"dataframe\">\n",
              "  <thead>\n",
              "    <tr style=\"text-align: right;\">\n",
              "      <th></th>\n",
              "      <th>Card1Suit</th>\n",
              "      <th>Card1Rank</th>\n",
              "      <th>Card2Suit</th>\n",
              "      <th>Card2Rank</th>\n",
              "      <th>Card3Suit</th>\n",
              "      <th>Card3Rank</th>\n",
              "      <th>Card4Suit</th>\n",
              "      <th>Card4Rank</th>\n",
              "      <th>Card5Suit</th>\n",
              "      <th>Card5Rank</th>\n",
              "      <th>Hand</th>\n",
              "    </tr>\n",
              "  </thead>\n",
              "  <tbody>\n",
              "    <tr>\n",
              "      <th>0</th>\n",
              "      <td>1</td>\n",
              "      <td>1</td>\n",
              "      <td>1</td>\n",
              "      <td>13</td>\n",
              "      <td>2</td>\n",
              "      <td>4</td>\n",
              "      <td>2</td>\n",
              "      <td>3</td>\n",
              "      <td>1</td>\n",
              "      <td>12</td>\n",
              "      <td>0</td>\n",
              "    </tr>\n",
              "    <tr>\n",
              "      <th>1</th>\n",
              "      <td>3</td>\n",
              "      <td>12</td>\n",
              "      <td>3</td>\n",
              "      <td>2</td>\n",
              "      <td>3</td>\n",
              "      <td>11</td>\n",
              "      <td>4</td>\n",
              "      <td>5</td>\n",
              "      <td>2</td>\n",
              "      <td>5</td>\n",
              "      <td>1</td>\n",
              "    </tr>\n",
              "    <tr>\n",
              "      <th>2</th>\n",
              "      <td>1</td>\n",
              "      <td>9</td>\n",
              "      <td>4</td>\n",
              "      <td>6</td>\n",
              "      <td>1</td>\n",
              "      <td>4</td>\n",
              "      <td>3</td>\n",
              "      <td>2</td>\n",
              "      <td>3</td>\n",
              "      <td>9</td>\n",
              "      <td>1</td>\n",
              "    </tr>\n",
              "    <tr>\n",
              "      <th>3</th>\n",
              "      <td>1</td>\n",
              "      <td>4</td>\n",
              "      <td>3</td>\n",
              "      <td>13</td>\n",
              "      <td>2</td>\n",
              "      <td>13</td>\n",
              "      <td>2</td>\n",
              "      <td>1</td>\n",
              "      <td>3</td>\n",
              "      <td>6</td>\n",
              "      <td>1</td>\n",
              "    </tr>\n",
              "    <tr>\n",
              "      <th>4</th>\n",
              "      <td>3</td>\n",
              "      <td>10</td>\n",
              "      <td>2</td>\n",
              "      <td>7</td>\n",
              "      <td>1</td>\n",
              "      <td>2</td>\n",
              "      <td>2</td>\n",
              "      <td>11</td>\n",
              "      <td>4</td>\n",
              "      <td>9</td>\n",
              "      <td>0</td>\n",
              "    </tr>\n",
              "  </tbody>\n",
              "</table>\n",
              "</div>"
            ],
            "text/plain": [
              "   Card1Suit  Card1Rank  Card2Suit  ...  Card5Suit  Card5Rank  Hand\n",
              "0          1          1          1  ...          1         12     0\n",
              "1          3         12          3  ...          2          5     1\n",
              "2          1          9          4  ...          3          9     1\n",
              "3          1          4          3  ...          3          6     1\n",
              "4          3         10          2  ...          4          9     0\n",
              "\n",
              "[5 rows x 11 columns]"
            ]
          },
          "metadata": {
            "tags": []
          },
          "execution_count": 15
        }
      ]
    },
    {
      "cell_type": "code",
      "metadata": {
        "id": "rVcXotTg9iln",
        "colab_type": "code",
        "colab": {}
      },
      "source": [
        "pokerHand.to_csv('pokerHandFromUCI.csv')"
      ],
      "execution_count": 16,
      "outputs": []
    }
  ]
}