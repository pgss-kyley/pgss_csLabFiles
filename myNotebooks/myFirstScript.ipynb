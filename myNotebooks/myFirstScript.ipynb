{
  "nbformat": 4,
  "nbformat_minor": 0,
  "metadata": {
    "colab": {
      "name": "myFirstScript.ipynb",
      "provenance": [],
      "collapsed_sections": []
    },
    "kernelspec": {
      "name": "python3",
      "display_name": "Python 3"
    }
  },
  "cells": [
    {
      "cell_type": "markdown",
      "metadata": {
        "id": "qfb3A287U-tN",
        "colab_type": "text"
      },
      "source": [
        "In this script, we:\n",
        "\n",
        "1.   Connect Colab to our Google Drive\n",
        "2.   Read a file from Github as a RAW file, into a Pandas data frame\n",
        "3.   Summarize that data\n",
        "4.   Read a file from Google Drive into a separate Pandas data frame\n",
        "\n"
      ]
    },
    {
      "cell_type": "code",
      "metadata": {
        "id": "V_gyILBbF89y",
        "colab_type": "code",
        "colab": {
          "base_uri": "https://localhost:8080/",
          "height": 35
        },
        "outputId": "550afb12-a7db-48cd-ac9f-39a405ac9dd8"
      },
      "source": [
        "a=2\n",
        "print(a)"
      ],
      "execution_count": null,
      "outputs": [
        {
          "output_type": "stream",
          "text": [
            "2\n"
          ],
          "name": "stdout"
        }
      ]
    },
    {
      "cell_type": "markdown",
      "metadata": {
        "id": "pQimUjXMVW_M",
        "colab_type": "text"
      },
      "source": [
        "# Connect Colab to Google Drive"
      ]
    },
    {
      "cell_type": "code",
      "metadata": {
        "id": "dnWcOZo3Hb8z",
        "colab_type": "code",
        "colab": {
          "base_uri": "https://localhost:8080/",
          "height": 127
        },
        "outputId": "36b0c3e9-28b6-4b87-b910-db7062add15e"
      },
      "source": [
        "from google.colab import drive\n",
        "drive.mount('/content/drive')"
      ],
      "execution_count": null,
      "outputs": [
        {
          "output_type": "stream",
          "text": [
            "Go to this URL in a browser: https://accounts.google.com/o/oauth2/auth?client_id=947318989803-6bn6qk8qdgf4n4g3pfee6491hc0brc4i.apps.googleusercontent.com&redirect_uri=urn%3aietf%3awg%3aoauth%3a2.0%3aoob&response_type=code&scope=email%20https%3a%2f%2fwww.googleapis.com%2fauth%2fdocs.test%20https%3a%2f%2fwww.googleapis.com%2fauth%2fdrive%20https%3a%2f%2fwww.googleapis.com%2fauth%2fdrive.photos.readonly%20https%3a%2f%2fwww.googleapis.com%2fauth%2fpeopleapi.readonly\n",
            "\n",
            "Enter your authorization code:\n",
            "··········\n",
            "Mounted at /content/drive\n"
          ],
          "name": "stdout"
        }
      ]
    },
    {
      "cell_type": "markdown",
      "metadata": {
        "id": "MqHHioxAVcof",
        "colab_type": "text"
      },
      "source": [
        "# Read a file from Github as a RAW file, into a Pandas data frame"
      ]
    },
    {
      "cell_type": "code",
      "metadata": {
        "id": "AYHDzpzDV3bN",
        "colab_type": "code",
        "colab": {}
      },
      "source": [
        "import pandas as pd\n",
        "ChicagoData = pd.read_csv('https://raw.githubusercontent.com/menonpg/covid19_Chicago/master/timeSeries_COVID19_Chicago.csv')"
      ],
      "execution_count": 13,
      "outputs": []
    },
    {
      "cell_type": "markdown",
      "metadata": {
        "id": "g0H98HV6V7cr",
        "colab_type": "text"
      },
      "source": [
        "# Summarize the above data"
      ]
    },
    {
      "cell_type": "code",
      "metadata": {
        "id": "gOfYCP4sV_7t",
        "colab_type": "code",
        "colab": {
          "base_uri": "https://localhost:8080/",
          "height": 449
        },
        "outputId": "9d0b79de-3bdd-4263-d539-4b3c17f62bc6"
      },
      "source": [
        "print(ChicagoData)\n",
        "print(\"Min values by column \\n\" + str(ChicagoData.aggregate('min')))\n",
        "print(\"Max values by column \\n\" + str(ChicagoData.aggregate('max')))"
      ],
      "execution_count": 14,
      "outputs": [
        {
          "output_type": "stream",
          "text": [
            "    Cases  Deaths        Date\n",
            "0     598       4  2020-03-24\n",
            "1     949       5  2020-03-25\n",
            "2    1882      15  2020-03-28\n",
            "3    1975      15  2020-03-29\n",
            "4    2611      26  2020-03-31\n",
            "..    ...     ...         ...\n",
            "89  51512    2573  2020-06-28\n",
            "90  52153    2592  2020-06-29\n",
            "91  52340    2603  2020-06-30\n",
            "92  52569    2611  2020-07-01\n",
            "93  52813    2623  2020-07-02\n",
            "\n",
            "[94 rows x 3 columns]\n",
            "Min values by column \n",
            "Cases            598\n",
            "Deaths             4\n",
            "Date      2020-03-24\n",
            "dtype: object\n",
            "Max values by column \n",
            "Cases          52813\n",
            "Deaths          2623\n",
            "Date      2020-07-02\n",
            "dtype: object\n"
          ],
          "name": "stdout"
        }
      ]
    },
    {
      "cell_type": "code",
      "metadata": {
        "id": "jFRcRhA4eYHf",
        "colab_type": "code",
        "colab": {
          "base_uri": "https://localhost:8080/",
          "height": 35
        },
        "outputId": "0ad33c7e-c4e7-4e00-d48b-5693c5f4f9df"
      },
      "source": [
        "! mkdir /content/drive/My\\ Drive/DATA/"
      ],
      "execution_count": 29,
      "outputs": [
        {
          "output_type": "stream",
          "text": [
            "mkdir: cannot create directory ‘/content/drive/My Drive/DATA/’: File exists\n"
          ],
          "name": "stdout"
        }
      ]
    },
    {
      "cell_type": "code",
      "metadata": {
        "id": "BoFESotwcA0j",
        "colab_type": "code",
        "colab": {}
      },
      "source": [
        "ChicagoData.to_csv(\"timeSeries_COVID19_Chicago.csv\", index=False)\n",
        "\n",
        "ChicagoData.to_csv(\"/content/drive/My Drive/DATA/timeSeries_COVID19_Chicago.csv\", index=False)"
      ],
      "execution_count": 30,
      "outputs": []
    },
    {
      "cell_type": "markdown",
      "metadata": {
        "id": "eBKFPDfvW7O1",
        "colab_type": "text"
      },
      "source": [
        "# Read a file from Google Drive\n"
      ]
    },
    {
      "cell_type": "code",
      "metadata": {
        "id": "pMw-t2gTXBm-",
        "colab_type": "code",
        "colab": {}
      },
      "source": [
        "import pandas as pd \n",
        "ChicagoData_fromDrive = pd.read_csv('/content/drive/My Drive/DATA/timeSeries_COVID19_Chicago.csv')"
      ],
      "execution_count": 31,
      "outputs": []
    },
    {
      "cell_type": "code",
      "metadata": {
        "id": "hyyz_Fmjb8lC",
        "colab_type": "code",
        "colab": {
          "base_uri": "https://localhost:8080/",
          "height": 449
        },
        "outputId": "1dacf4f0-1c5f-4557-c351-277e11c52f1a"
      },
      "source": [
        "print(ChicagoData)\n",
        "print(\"Min values by column \\n\" + str(ChicagoData.aggregate('min')))\n",
        "print(\"Max values by column \\n\" + str(ChicagoData.aggregate('max')))"
      ],
      "execution_count": 9,
      "outputs": [
        {
          "output_type": "stream",
          "text": [
            "    Cases  Deaths        Date\n",
            "0     598       4  2020-03-24\n",
            "1     949       5  2020-03-25\n",
            "2    1882      15  2020-03-28\n",
            "3    1975      15  2020-03-29\n",
            "4    2611      26  2020-03-31\n",
            "..    ...     ...         ...\n",
            "89  51512    2573  2020-06-28\n",
            "90  52153    2592  2020-06-29\n",
            "91  52340    2603  2020-06-30\n",
            "92  52569    2611  2020-07-01\n",
            "93  52813    2623  2020-07-02\n",
            "\n",
            "[94 rows x 3 columns]\n",
            "Min values by column \n",
            "Cases            598\n",
            "Deaths             4\n",
            "Date      2020-03-24\n",
            "dtype: object\n",
            "Max values by column \n",
            "Cases          52813\n",
            "Deaths          2623\n",
            "Date      2020-07-02\n",
            "dtype: object\n"
          ],
          "name": "stdout"
        }
      ]
    }
  ]
}